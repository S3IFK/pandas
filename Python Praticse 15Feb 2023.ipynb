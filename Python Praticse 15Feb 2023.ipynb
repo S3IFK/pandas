{
  "cells": [
    {
      "cell_type": "markdown",
      "metadata": {
        "id": "view-in-github",
        "colab_type": "text"
      },
      "source": [
        "<a href=\"https://colab.research.google.com/github/S3IFK/pandas/blob/main/Python%20Praticse%2015Feb%202023.ipynb\" target=\"_parent\"><img src=\"https://colab.research.google.com/assets/colab-badge.svg\" alt=\"Open In Colab\"/></a>"
      ]
    },
    {
      "cell_type": "code",
      "source": [
        "import numpy as np\n",
        "import pandas as pd"
      ],
      "metadata": {
        "id": "4qLmzgMyBnKq"
      },
      "execution_count": 1,
      "outputs": []
    },
    {
      "cell_type": "code",
      "source": [
        "kg2ws = lambda kg: kg*1000\n",
        "print(kg2ws(5))"
      ],
      "metadata": {
        "id": "aAC95EgwroYD",
        "outputId": "07a586cd-e9ee-4b41-d683-17b48931ee64",
        "colab": {
          "base_uri": "https://localhost:8080/"
        }
      },
      "execution_count": 2,
      "outputs": [
        {
          "output_type": "stream",
          "name": "stdout",
          "text": [
            "5000\n"
          ]
        }
      ]
    },
    {
      "cell_type": "code",
      "source": [
        "evenodd = lambda num: True if num%2 ==0 else False"
      ],
      "metadata": {
        "id": "1CB2A3QksCZN"
      },
      "execution_count": 3,
      "outputs": []
    },
    {
      "cell_type": "code",
      "source": [
        "evenodd(2)"
      ],
      "metadata": {
        "id": "7JlkeRx9sZpB",
        "outputId": "e47abf07-cf67-4395-c3a3-3d94f1da5a18",
        "colab": {
          "base_uri": "https://localhost:8080/"
        }
      },
      "execution_count": 5,
      "outputs": [
        {
          "output_type": "execute_result",
          "data": {
            "text/plain": [
              "True"
            ]
          },
          "metadata": {},
          "execution_count": 5
        }
      ]
    },
    {
      "cell_type": "code",
      "source": [
        "evenodd = lambda num: num%2 ==0"
      ],
      "metadata": {
        "id": "qbKmAQDXsbZQ"
      },
      "execution_count": 6,
      "outputs": []
    },
    {
      "cell_type": "code",
      "source": [
        "print(evenodd(5))\n",
        "print(evenodd(4))"
      ],
      "metadata": {
        "id": "SEBbkC1DstxX",
        "outputId": "59d7fbae-b859-44de-80c1-b35397bac3b5",
        "colab": {
          "base_uri": "https://localhost:8080/"
        }
      },
      "execution_count": 9,
      "outputs": [
        {
          "output_type": "stream",
          "name": "stdout",
          "text": [
            "False\n",
            "True\n"
          ]
        }
      ]
    },
    {
      "cell_type": "code",
      "source": [
        "s = lambda x,y: x+y"
      ],
      "metadata": {
        "id": "7KdTlhvLswAh"
      },
      "execution_count": 10,
      "outputs": []
    },
    {
      "cell_type": "code",
      "source": [
        "s(4,5)"
      ],
      "metadata": {
        "id": "DdL8A1PmtKV9",
        "outputId": "408833fe-9526-43be-8750-788017c60826",
        "colab": {
          "base_uri": "https://localhost:8080/"
        }
      },
      "execution_count": 11,
      "outputs": [
        {
          "output_type": "execute_result",
          "data": {
            "text/plain": [
              "9"
            ]
          },
          "metadata": {},
          "execution_count": 11
        }
      ]
    },
    {
      "cell_type": "code",
      "source": [
        "numlist=[1,2,3,4,5,6,7,8,9]\n",
        "\n",
        "#map\n",
        "print(map(lambda x: x**2, numlist))"
      ],
      "metadata": {
        "id": "NYpuSNtEtMV9",
        "outputId": "19642255-1e52-443c-a9e3-998878ef7b5a",
        "colab": {
          "base_uri": "https://localhost:8080/"
        }
      },
      "execution_count": 12,
      "outputs": [
        {
          "output_type": "stream",
          "name": "stdout",
          "text": [
            "<map object at 0x7f6fca8fe670>\n"
          ]
        }
      ]
    },
    {
      "cell_type": "code",
      "source": [
        "print(list(map(lambda x: x**3, numlist)))\n",
        "print(set(map(lambda x: x**2, numlist)))\n",
        "print(tuple(map(lambda x: x**3, numlist)))"
      ],
      "metadata": {
        "id": "TPSRsURIvWu6",
        "outputId": "4a7b1d37-baa0-48a6-d5ba-44140600d07e",
        "colab": {
          "base_uri": "https://localhost:8080/"
        }
      },
      "execution_count": 16,
      "outputs": [
        {
          "output_type": "stream",
          "name": "stdout",
          "text": [
            "[1, 8, 27, 64, 125, 216, 343, 512, 729]\n",
            "{64, 1, 4, 36, 9, 16, 49, 81, 25}\n",
            "(1, 8, 27, 64, 125, 216, 343, 512, 729)\n"
          ]
        }
      ]
    },
    {
      "cell_type": "code",
      "source": [
        "usr_in = input('Enter some intergers with space separated: ')\n",
        "print(usr_in)\n",
        "usr_split = usr_in.split()\n",
        "print(usr_split)\n",
        "print(list(map(int, usr_split)))"
      ],
      "metadata": {
        "id": "iX0Q_eUlvix5",
        "outputId": "0dd46340-e062-4103-e23f-fd308d31a1bd",
        "colab": {
          "base_uri": "https://localhost:8080/"
        }
      },
      "execution_count": 17,
      "outputs": [
        {
          "output_type": "stream",
          "name": "stdout",
          "text": [
            "Enter some intergers with space separated: 1 2 3 4 5\n",
            "1 2 3 4 5\n",
            "['1', '2', '3', '4', '5']\n",
            "[1, 2, 3, 4, 5]\n"
          ]
        }
      ]
    },
    {
      "cell_type": "code",
      "source": [
        "print(list(map(int, input('Enter some number: ').split())))"
      ],
      "metadata": {
        "id": "ZUTwdoNtxhj-",
        "outputId": "49d720c9-b3f2-4cd3-f1b2-72e97bacd3af",
        "colab": {
          "base_uri": "https://localhost:8080/"
        }
      },
      "execution_count": 18,
      "outputs": [
        {
          "output_type": "stream",
          "name": "stdout",
          "text": [
            "Enter some number: 1 2 3\n",
            "[1, 2, 3]\n"
          ]
        }
      ]
    },
    {
      "cell_type": "code",
      "source": [
        "print(list(filter(lambda num: num%2 ==0, numlist)))"
      ],
      "metadata": {
        "id": "g0iliH4Ox6iq",
        "outputId": "049e4f60-ad95-4df0-924b-7dc15d14ed30",
        "colab": {
          "base_uri": "https://localhost:8080/"
        }
      },
      "execution_count": 20,
      "outputs": [
        {
          "output_type": "stream",
          "name": "stdout",
          "text": [
            "[2, 4, 6, 8]\n"
          ]
        }
      ]
    },
    {
      "cell_type": "code",
      "source": [],
      "metadata": {
        "id": "EPRDS2uMyPgM"
      },
      "execution_count": null,
      "outputs": []
    }
  ],
  "metadata": {
    "colab": {
      "name": "Colab's New Code Editor",
      "provenance": [],
      "include_colab_link": true
    },
    "kernelspec": {
      "display_name": "Python 3",
      "name": "python3"
    }
  },
  "nbformat": 4,
  "nbformat_minor": 0
}